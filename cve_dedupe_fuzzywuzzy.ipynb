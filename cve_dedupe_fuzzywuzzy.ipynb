{
 "cells": [
  {
   "cell_type": "markdown",
   "metadata": {},
   "source": [
    "# Overview\n",
    "1. Read CVSS CSV file, clean and sort it, remove all except CVE, Description columns\n"
   ]
  },
  {
   "cell_type": "code",
   "execution_count": 1,
   "metadata": {},
   "outputs": [],
   "source": [
    "import pandas as pd\n",
    "from rapidfuzz import fuzz, process\n",
    "from tqdm import tqdm\n",
    "import re\n",
    "import csv\n",
    "import unicodedata\n",
    "from datetime import datetime\n",
    "import json\n",
    "from collections import Counter\n",
    "import gzip"
   ]
  },
  {
   "cell_type": "code",
   "execution_count": 2,
   "metadata": {},
   "outputs": [],
   "source": [
    "# Input and output file paths\n",
    "input_file = './CVSSData.csv.gz'\n",
    "output_file = './cleaned_optimized_fuzzy_deduplicated_file.csv.gz'\n",
    "removed_file = './removed_duplicates.csv.gz'\n",
    "output_json_file = './duplicate_info.json.gz'\n"
   ]
  },
  {
   "cell_type": "code",
   "execution_count": 3,
   "metadata": {},
   "outputs": [
    {
     "data": {
      "text/html": [
       "<div>\n",
       "<style scoped>\n",
       "    .dataframe tbody tr th:only-of-type {\n",
       "        vertical-align: middle;\n",
       "    }\n",
       "\n",
       "    .dataframe tbody tr th {\n",
       "        vertical-align: top;\n",
       "    }\n",
       "\n",
       "    .dataframe thead th {\n",
       "        text-align: right;\n",
       "    }\n",
       "</style>\n",
       "<table border=\"1\" class=\"dataframe\">\n",
       "  <thead>\n",
       "    <tr style=\"text-align: right;\">\n",
       "      <th></th>\n",
       "      <th>CVE</th>\n",
       "      <th>Description</th>\n",
       "    </tr>\n",
       "  </thead>\n",
       "  <tbody>\n",
       "    <tr>\n",
       "      <th>0</th>\n",
       "      <td>CVE-1999-0095</td>\n",
       "      <td>The debug command in Sendmail is enabled, allo...</td>\n",
       "    </tr>\n",
       "    <tr>\n",
       "      <th>1</th>\n",
       "      <td>CVE-1999-0082</td>\n",
       "      <td>CWD ~root command in ftpd allows root access.</td>\n",
       "    </tr>\n",
       "    <tr>\n",
       "      <th>2</th>\n",
       "      <td>CVE-1999-1471</td>\n",
       "      <td>Buffer overflow in passwd in BSD based operati...</td>\n",
       "    </tr>\n",
       "    <tr>\n",
       "      <th>3</th>\n",
       "      <td>CVE-1999-1122</td>\n",
       "      <td>Vulnerability in restore in SunOS 4.0.3 and ea...</td>\n",
       "    </tr>\n",
       "    <tr>\n",
       "      <th>4</th>\n",
       "      <td>CVE-1999-1467</td>\n",
       "      <td>Vulnerability in rcp on SunOS 4.0.x allows rem...</td>\n",
       "    </tr>\n",
       "    <tr>\n",
       "      <th>...</th>\n",
       "      <td>...</td>\n",
       "      <td>...</td>\n",
       "    </tr>\n",
       "    <tr>\n",
       "      <th>248446</th>\n",
       "      <td>CVE-2024-8039</td>\n",
       "      <td>Improper permission configurationDomain config...</td>\n",
       "    </tr>\n",
       "    <tr>\n",
       "      <th>248447</th>\n",
       "      <td>CVE-2024-8724</td>\n",
       "      <td>The Waitlist Woocommerce ( Back in stock notif...</td>\n",
       "    </tr>\n",
       "    <tr>\n",
       "      <th>248448</th>\n",
       "      <td>CVE-2024-8479</td>\n",
       "      <td>The The Simple Spoiler plugin for WordPress is...</td>\n",
       "    </tr>\n",
       "    <tr>\n",
       "      <th>248449</th>\n",
       "      <td>CVE-2024-8246</td>\n",
       "      <td>The Post Form – Registration Form – Profile Fo...</td>\n",
       "    </tr>\n",
       "    <tr>\n",
       "      <th>248450</th>\n",
       "      <td>CVE-2024-8797</td>\n",
       "      <td>The WP Booking System – Booking Calendar plugi...</td>\n",
       "    </tr>\n",
       "  </tbody>\n",
       "</table>\n",
       "<p>248451 rows × 2 columns</p>\n",
       "</div>"
      ],
      "text/plain": [
       "                  CVE                                        Description\n",
       "0       CVE-1999-0095  The debug command in Sendmail is enabled, allo...\n",
       "1       CVE-1999-0082      CWD ~root command in ftpd allows root access.\n",
       "2       CVE-1999-1471  Buffer overflow in passwd in BSD based operati...\n",
       "3       CVE-1999-1122  Vulnerability in restore in SunOS 4.0.3 and ea...\n",
       "4       CVE-1999-1467  Vulnerability in rcp on SunOS 4.0.x allows rem...\n",
       "...               ...                                                ...\n",
       "248446  CVE-2024-8039  Improper permission configurationDomain config...\n",
       "248447  CVE-2024-8724  The Waitlist Woocommerce ( Back in stock notif...\n",
       "248448  CVE-2024-8479  The The Simple Spoiler plugin for WordPress is...\n",
       "248449  CVE-2024-8246  The Post Form – Registration Form – Profile Fo...\n",
       "248450  CVE-2024-8797  The WP Booking System – Booking Calendar plugi...\n",
       "\n",
       "[248451 rows x 2 columns]"
      ]
     },
     "execution_count": 3,
     "metadata": {},
     "output_type": "execute_result"
    }
   ],
   "source": [
    "# Read the CSV file\n",
    "df = pd.read_csv(input_file,quoting=csv.QUOTE_ALL, escapechar='\\\\', compression='gzip')\n",
    "df = df[['CVE', 'Description']]\n",
    "#df=df[:50000] #test sample\n",
    "df"
   ]
  },
  {
   "cell_type": "code",
   "execution_count": 4,
   "metadata": {},
   "outputs": [],
   "source": [
    "def clean_description(text):\n",
    "    if not isinstance(text, str):\n",
    "        return ''\n",
    "\n",
    "    # Normalize unicode characters\n",
    "    text = unicodedata.normalize('NFKD', text).encode('ASCII', 'ignore').decode('ASCII')\n",
    "\n",
    "    # Convert to lowercase\n",
    "    text = text.lower()\n",
    "\n",
    "    # Remove newlines and carriage returns\n",
    "    text = text.replace('\\n', ' ').replace('\\r', '')\n",
    "\n",
    "    # Remove extra spaces\n",
    "    text = re.sub(r'\\s+', ' ', text)\n",
    "\n",
    "    return text\n",
    "\n",
    "\n",
    "def mark_and_count_dupes(txt_col, threshold=80, window=1000):\n",
    "    txt_list = txt_col.to_list()\n",
    "    marked = [True] * len(txt_list)\n",
    "    duplicate_count = 0\n",
    "    duplicate_groups = []\n",
    "    \n",
    "    for i in tqdm(range(len(txt_list)), desc=\"Checking for duplicates\"):\n",
    "        if not marked[i]:  # don't check duplicates of text rows marked for removal\n",
    "            continue\n",
    "        \n",
    "        group = [i]\n",
    "        # Define the window\n",
    "        start = max(0, i + 1)\n",
    "        end = min(len(txt_list), i + window + 1)\n",
    "        \n",
    "        for j in range(start, end):\n",
    "            if marked[j]:  # only look through vals not already marked for removal\n",
    "                if fuzz.ratio(txt_list[i], txt_list[j], score_cutoff=threshold):\n",
    "                    marked[j] = False  # mark for removal\n",
    "                    duplicate_count += 1\n",
    "                    group.append(j)\n",
    "        \n",
    "        if len(group) > 1:\n",
    "            duplicate_groups.append(group)\n",
    "    \n",
    "    return marked, duplicate_count, duplicate_groups\n",
    "\n",
    "\n",
    "def save_duplicate_info(df, duplicate_groups, output_file):\n",
    "    # Sort duplicate_groups by size (largest to smallest)\n",
    "    duplicate_groups.sort(key=len, reverse=True)\n",
    "    \n",
    "    duplicate_info = []\n",
    "    for group in duplicate_groups:\n",
    "        group_info = {\n",
    "            \"group_size\": len(group),\n",
    "            \"items\": [\n",
    "                {\n",
    "                    \"index\": idx,\n",
    "                    \"cve\": df.iloc[idx]['CVE'],\n",
    "                    \"description\": df.iloc[idx]['Description'][:200]  # First 200 characters\n",
    "                } for idx in group\n",
    "            ]\n",
    "        }\n",
    "        duplicate_info.append(group_info)\n",
    "    \n",
    "    # Create a list of group sizes\n",
    "    group_sizes = [len(group) for group in duplicate_groups]\n",
    "    size_counter = Counter(group_sizes)\n",
    "    sorted_sizes = sorted(size_counter.items(), key=lambda x: x[0], reverse=True)\n",
    "    \n",
    "    result = {\n",
    "        \"total_rows\": len(df),\n",
    "        \"total_duplicates\": sum(len(group) - 1 for group in duplicate_groups),\n",
    "        \"duplicate_groups\": len(duplicate_groups),\n",
    "        \"group_size_distribution\": [{\"size\": size, \"count\": count} for size, count in sorted_sizes],\n",
    "        \"groups\": duplicate_info\n",
    "    }\n",
    "\n",
    "    with gzip.open(output_file, 'wt', encoding='utf-8') as f:\n",
    "        json.dump(result, f, indent=2)"
   ]
  },
  {
   "cell_type": "code",
   "execution_count": 5,
   "metadata": {},
   "outputs": [
    {
     "name": "stdout",
     "output_type": "stream",
     "text": [
      "Shape after removing exact duplicates: (237863, 3)\n"
     ]
    }
   ],
   "source": [
    "# Clean the Description column\n",
    "df['Clean_Description'] = df['Description'].apply(clean_description)\n",
    "\n",
    "# Remove exact duplicates first, using the cleaned description\n",
    "df = df.drop_duplicates(subset='Clean_Description', keep='first')\n",
    "print(f\"Shape after removing exact duplicates: {df.shape}\")\n",
    "\n",
    "# Sort the DataFrame by the cleaned description\n",
    "df = df.sort_values('Clean_Description')\n",
    "\n",
    "# Reset index for proper functioning of the fuzzy_dedupe function\n",
    "df = df.reset_index(drop=True)\n",
    "\n"
   ]
  },
  {
   "cell_type": "code",
   "execution_count": 6,
   "metadata": {},
   "outputs": [
    {
     "name": "stdout",
     "output_type": "stream",
     "text": [
      "Starting deduplication process...\n"
     ]
    },
    {
     "name": "stderr",
     "output_type": "stream",
     "text": [
      "Checking for duplicates: 100%|██████████| 237863/237863 [04:00<00:00, 988.57it/s] "
     ]
    },
    {
     "name": "stdout",
     "output_type": "stream",
     "text": [
      "Deduplication complete.\n",
      "Original row count: 237863\n",
      "Rows remaining after deduplication: 157158\n",
      "Number of duplicates found: 80705\n",
      "Number of duplicate groups: 21429\n"
     ]
    },
    {
     "name": "stderr",
     "output_type": "stream",
     "text": [
      "\n"
     ]
    }
   ],
   "source": [
    "print(\"Starting deduplication process...\")\n",
    "chk, dup_count, dup_groups = mark_and_count_dupes(df['Clean_Description'], threshold=80, window=1000)\n",
    "\n",
    "dfx = df[chk]\n",
    "print(f\"Deduplication complete.\")\n",
    "print(f\"Original row count: {len(df)}\")\n",
    "print(f\"Rows remaining after deduplication: {len(dfx)}\")\n",
    "print(f\"Number of duplicates found: {dup_count}\")\n",
    "print(f\"Number of duplicate groups: {len(dup_groups)}\")"
   ]
  },
  {
   "cell_type": "code",
   "execution_count": 7,
   "metadata": {},
   "outputs": [
    {
     "name": "stdout",
     "output_type": "stream",
     "text": [
      "Number of duplicates removed: 80705\n",
      "Duplicate information saved to ./duplicate_info.json.gz\n"
     ]
    }
   ],
   "source": [
    "# see the removed duplicates:\n",
    "duplicates = df[~pd.Series(chk)]\n",
    "print(f\"Number of duplicates removed: {len(duplicates)}\")\n",
    "# Save the duplicates\n",
    "duplicates.to_csv(removed_file, quoting=csv.QUOTE_ALL, escapechar='\\\\', compression='gzip')\n",
    "\n",
    "\n",
    "# Optionally, save the deduplicated DataFrame\n",
    "dfx.to_csv(output_file, quoting=csv.QUOTE_ALL, escapechar='\\\\', compression='gzip')\n",
    "\n",
    "\n",
    "\n",
    "# Save duplicate information to file\n",
    "save_duplicate_info(df, dup_groups, output_json_file)\n",
    "print(f\"Duplicate information saved to {output_json_file}\")\n"
   ]
  }
 ],
 "metadata": {
  "kernelspec": {
   "display_name": "Python 3",
   "language": "python",
   "name": "python3"
  },
  "language_info": {
   "codemirror_mode": {
    "name": "ipython",
    "version": 3
   },
   "file_extension": ".py",
   "mimetype": "text/x-python",
   "name": "python",
   "nbconvert_exporter": "python",
   "pygments_lexer": "ipython3",
   "version": "3.12.3"
  },
  "orig_nbformat": 4
 },
 "nbformat": 4,
 "nbformat_minor": 2
}
